{
  "cells": [
    {
      "cell_type": "markdown",
      "metadata": {
        "id": "view-in-github",
        "colab_type": "text"
      },
      "source": [
        "<a href=\"https://colab.research.google.com/github/m-paolino/whisper/blob/main/Whisper.ipynb\" target=\"_parent\"><img src=\"https://colab.research.google.com/assets/colab-badge.svg\" alt=\"Open In Colab\"/></a>"
      ]
    },
    {
      "cell_type": "markdown",
      "metadata": {
        "id": "_we7VahhXqJx"
      },
      "source": [
        "To install Whisper from GitHub repository.\n"
      ]
    },
    {
      "cell_type": "code",
      "execution_count": null,
      "metadata": {
        "id": "gBo_pPvEXnd9"
      },
      "outputs": [],
      "source": [
        "!pip install git+https://github.com/openai/whisper.git"
      ]
    },
    {
      "cell_type": "markdown",
      "metadata": {
        "id": "0bOC0yxsX13a"
      },
      "source": [
        "To download YouTube video and save as .m4a file. Alternatively, you can upload an audio or video file in the /content folder."
      ]
    },
    {
      "cell_type": "code",
      "execution_count": null,
      "metadata": {
        "id": "VLgZy21VX0Gr"
      },
      "outputs": [],
      "source": [
        "!pip install yt-dlp\n",
        "!yt-dlp https://www.youtube.com/watch?v=Vh7iEv-IoUg&ab_channel=Datapizza --format m4a -o \"%(id)s.%(ext)s\""
      ]
    },
    {
      "cell_type": "markdown",
      "metadata": {
        "id": "0Fl_5fy1YD9-"
      },
      "source": [
        "- Replace the file name with content/[filename].\n",
        "- Choose the language (Italian, English...).\n",
        "- Start the transcription!\n",
        "\n",
        "A text file will be created into the same folder."
      ]
    },
    {
      "cell_type": "code",
      "execution_count": null,
      "metadata": {
        "id": "u2ADaqdgYI2U"
      },
      "outputs": [],
      "source": [
        "!whisper \"/content/audiovideo_file.mp4\" --model small --language Italian"
      ]
    }
  ],
  "metadata": {
    "accelerator": "GPU",
    "colab": {
      "provenance": [],
      "include_colab_link": true
    },
    "kernelspec": {
      "display_name": "Python 3",
      "name": "python3"
    },
    "language_info": {
      "name": "python"
    }
  },
  "nbformat": 4,
  "nbformat_minor": 0
}